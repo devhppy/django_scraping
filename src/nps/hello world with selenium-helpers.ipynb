{
 "cells": [
  {
   "cell_type": "code",
   "execution_count": 1,
   "id": "90eebaee-f352-41ec-bdcd-5ceef1f57b6c",
   "metadata": {},
   "outputs": [],
   "source": [
    "import setup\n",
    "setup.init_django(project_name=\"devhome\")"
   ]
  },
  {
   "cell_type": "code",
   "execution_count": 2,
   "id": "8943af16-1029-45ec-a63f-7089fd3119a4",
   "metadata": {},
   "outputs": [],
   "source": [
    "from helpers.reading import GoogleSheetPoster"
   ]
  },
  {
   "cell_type": "code",
   "execution_count": 3,
   "id": "9ba272f9-0776-4c0a-a8fc-db731bcdf6ec",
   "metadata": {},
   "outputs": [
    {
     "name": "stdout",
     "output_type": "stream",
     "text": [
      "⚠️ GOOGLE_API_ENDPOINT not found. POST requests will be skipped.\n",
      "Please visit this URL to authorize this application: https://accounts.google.com/o/oauth2/auth?response_type=code&client_id=897979869431-09vjsp33qek0gnrroavoao553tb50dso.apps.googleusercontent.com&redirect_uri=http%3A%2F%2Flocalhost%3A61601%2F&scope=https%3A%2F%2Fwww.googleapis.com%2Fauth%2Fspreadsheets&state=FI4B17iBamOQldFcawtSXG0TSZ53Hs&access_type=offline\n",
      "✅ sheets service created successfully.\n"
     ]
    }
   ],
   "source": [
    "poster = GoogleSheetPoster()"
   ]
  },
  {
   "cell_type": "code",
   "execution_count": 4,
   "id": "db7d219e-d9dc-4462-908d-87586b9e2e1a",
   "metadata": {},
   "outputs": [
    {
     "name": "stdout",
     "output_type": "stream",
     "text": [
      "📄 Sheets found: kids, auto\n"
     ]
    }
   ],
   "source": [
    "sheet_names = poster.get_sheet_names()"
   ]
  },
  {
   "cell_type": "code",
   "execution_count": null,
   "id": "4a229586-5e36-4a82-b6c1-8df2d89e0dba",
   "metadata": {},
   "outputs": [],
   "source": []
  }
 ],
 "metadata": {
  "kernelspec": {
   "display_name": "Python 3 (ipykernel)",
   "language": "python",
   "name": "python3"
  },
  "language_info": {
   "codemirror_mode": {
    "name": "ipython",
    "version": 3
   },
   "file_extension": ".py",
   "mimetype": "text/x-python",
   "name": "python",
   "nbconvert_exporter": "python",
   "pygments_lexer": "ipython3",
   "version": "3.10.14"
  }
 },
 "nbformat": 4,
 "nbformat_minor": 5
}
