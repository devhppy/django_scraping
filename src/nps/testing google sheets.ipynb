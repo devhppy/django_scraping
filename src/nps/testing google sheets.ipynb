{
 "cells": [
  {
   "cell_type": "code",
   "execution_count": 1,
   "id": "90eebaee-f352-41ec-bdcd-5ceef1f57b6c",
   "metadata": {},
   "outputs": [],
   "source": [
    "import setup\n",
    "setup.init_django(project_name=\"devhome\")"
   ]
  },
  {
   "cell_type": "code",
   "execution_count": 2,
   "id": "8943af16-1029-45ec-a63f-7089fd3119a4",
   "metadata": {},
   "outputs": [],
   "source": [
    "from helpers.scraper import Scraper"
   ]
  },
  {
   "cell_type": "code",
   "execution_count": 3,
   "id": "dfdc06f7-661e-4600-990f-641b1411067d",
   "metadata": {},
   "outputs": [],
   "source": [
    "asin = \"B0CLF3VPMV\""
   ]
  },
  {
   "cell_type": "code",
   "execution_count": 4,
   "id": "d48f7ef0-22ab-4b50-a21e-c7256536fd5a",
   "metadata": {
    "scrolled": true
   },
   "outputs": [],
   "source": [
    "scraper = Scraper(asin=\"B0CLF3VPMV\")\n"
   ]
  },
  {
   "cell_type": "code",
   "execution_count": 5,
   "id": "e87196cb-5a0f-4537-8548-0ac53a7d2d33",
   "metadata": {},
   "outputs": [
    {
     "name": "stdout",
     "output_type": "stream",
     "text": [
      "Launching browser with dynamic ChromeDriver...\n"
     ]
    },
    {
     "name": "stderr",
     "output_type": "stream",
     "text": [
      "could not detect version_main.therefore, we are assuming it is chrome 108 or higher\n"
     ]
    }
   ],
   "source": [
    "data = scraper.scrape()"
   ]
  },
  {
   "cell_type": "code",
   "execution_count": 6,
   "id": "8a8fd58b-87e3-43cd-be77-0e5bdf5db2d0",
   "metadata": {},
   "outputs": [
    {
     "data": {
      "text/plain": [
       "{'title': 'Samsung Galaxy Tab A9+ Tablet 11” 64GB Android Tablet, Big Screen, Quad Speakers, Upgraded Chipset, Multi Window Display, Slim, Light, Durable Design, US Version, 2024, Graphite',\n",
       " 'price': 159.99,\n",
       " 'total': 180.77,\n",
       " 'description': 'Meet your go-to device for on-the-go family fun – Galaxy Tab A9+. A bright, engaging 11”\\nScreen1 is perfect for every family member to do their thing. Whether they’re enjoying a\\nshow, unwinding with a game or catching up on schoolwork or day-to-day tasks, an\\nupgraded chipset makes every experience feel smooth and easy. You can even open\\nmultiple apps at the same time and get all your everyday tasks done quickly.\\n1Measured diagonally, the Galaxy Tab A9+ screen size is 11.0” in the full rectangle and 10.9\" accounting for the rounded corners. Actual viewable area is less due to the rounded corners. 2Portion of storage / memory occupied by existing content. 3MicroSD card sold separately. 4Certain applications may not support Multi-Active Windows use. 5Samsung Kids app comes pre-loaded on Galaxy Tab A9+. 6Galaxy and non-Galaxy devices: Smartphones and tablets with Android OS version 10.0 (Q) and One UI 2.1 or above, PCs running Windows 10 or later. Requires Samsung account and Wi-Fi and Bluetooth connection. Quick Share to iOS and Android devices available by sending shared link: individual files shared cannot exceed 3GB (for a total of 5GB per day) and link will expire after two days; requires a Samsung account and internet connection. Galaxy to Galaxy devices: Smartphones and tablets with Android OS version 10.0 (Q) and One UI 2.1 or above, PCs running Windows 10 and later. Requires Samsung account and Wi-Fi and Bluetooth connection between devices. 7Feature supported on mobile devices running UI 2.5 or later and TV models 2018 U7400 series or upper model. Must be logged in to the same Samsung account and be on the same Wi-Fi network. TV must be registered to SmartThings app. 8Requires devices to have One UI 2.5 or later. Devices must be logged in to the same Samsung account and be on the same Wi-Fi network.',\n",
       " 'image_url': 'https://m.media-amazon.com/images/I/61d46oYQgdL._AC_SX466_.jpg',\n",
       " 'rating': '4.5 out of 5 stars',\n",
       " 'total_reviews': 11815,\n",
       " 'reviews': ['I had an older Galaxy Tab A (2019), but a friend broke it. Android tablet computers have really improved since I bought the old Samsung.\\nI have a Samsung laptop and smartphone; they connect seamlessly and transferring data and media is a breeze.\\nI knew the new tablet would be another Samsung.\\nWhat I was unprepared for was how much I LOVE this Galaxy Tab A9+ (2024 version). The A9+ was released in 2023 and 2024. The latter has an improved chipset (Snapdragon) and is updated to Android 14. Otherwise, they are identical.\\nThe A9+ has an 11\" screen and is lightweight and thin enough to put a cover on and carry in my handbag.\\nThe display is bright, smooth and videos look beautiful. I have already used it for virtual meetings. Games run perfectly (though I will say up front that I don\\'t run any graphics-intensive games).\\nThis tablet has checked all the boxes for my needs.\\nAnd get this: for the 64gb model, I paid just $159.00, brand new.\\nI cannot imagine how many bells and whistles are packed into tablets costing ten times more, especially when the A9 is everything I could ask for.\\nI will continue to attend virtual meetings, as well as journaling and some digital art.\\nI added an active stylus for the art; it\\'s a great combo!\\nSo far. I\\'ve encountered no negative attributes.\\nIf you want a great little tablet for general computing and don\\'t want to spend a fortune, don\\'t hesitate trying the Galaxy Tab A9+.\\nThis tablet would make a fantastic gift!',\n",
       "  \"This tablet is awesome!! Beautiful display, especially great for streaming movies and shows. It was super easy to set up. The charging didn't take more than 2 hours (using a 45W charging block that I ordered separately). Sound is plenty good, but is absolutely GREAT with the JBL earphones I ordered separately. And YES! This tablet has a JACK for my earphones to plug in! That was huge on my list, so I can watch shows during lunch at work. Battery lasts at least 8 hours, maybe more, if mostly streaming. Get this tablet!\",\n",
       "  'Writing this after few months of use - all well, working fine, original packaging etc',\n",
       "  'I ordered two Samsung galaxy kids edition, a yellow and a red. But I got two yellow colors delivered which was kinda disappointing as they belong to my two children.\\nApart from that, nice product',\n",
       "  '',\n",
       "  \"Great value. Performance is what I expected. A bit of a lag due to memory limitations but overall can't beat the value for the price\",\n",
       "  'Ele é ótimo pra coisas simples, ele n seria ideal pra encher de aplicativos, arquivos e coisas q possa pesar ele, ele é ideia pra caso vc não possa ter nada muito avançado, mas também precisa de algo bom, o modelo dele trava muito, de primeira após aberto já aprensetou travar mt, mas não me incomodou e não atrapalhou, ele é ótimo de verdade,eu estou feliz com ele pq vai suprir minhas necessidades que não são mts, ent ele vale mt a pena, chegou na data prescrita e chegou em perfeito estado, não tenho reclamações. Agradeço pela compra pq com certeza valeu muito a pena']}"
      ]
     },
     "execution_count": 6,
     "metadata": {},
     "output_type": "execute_result"
    }
   ],
   "source": [
    "data"
   ]
  },
  {
   "cell_type": "code",
   "execution_count": null,
   "id": "9ba272f9-0776-4c0a-a8fc-db731bcdf6ec",
   "metadata": {},
   "outputs": [],
   "source": []
  }
 ],
 "metadata": {
  "kernelspec": {
   "display_name": "Python 3 (ipykernel)",
   "language": "python",
   "name": "python3"
  },
  "language_info": {
   "codemirror_mode": {
    "name": "ipython",
    "version": 3
   },
   "file_extension": ".py",
   "mimetype": "text/x-python",
   "name": "python",
   "nbconvert_exporter": "python",
   "pygments_lexer": "ipython3",
   "version": "3.10.14"
  }
 },
 "nbformat": 4,
 "nbformat_minor": 5
}
