{
 "cells": [
  {
   "cell_type": "code",
   "execution_count": 1,
   "id": "90eebaee-f352-41ec-bdcd-5ceef1f57b6c",
   "metadata": {},
   "outputs": [],
   "source": [
    "import setup\n",
    "setup.init_django(project_name=\"devhome\")"
   ]
  },
  {
   "cell_type": "code",
   "execution_count": 2,
   "id": "8943af16-1029-45ec-a63f-7089fd3119a4",
   "metadata": {},
   "outputs": [],
   "source": [
    "import helpers"
   ]
  },
  {
   "cell_type": "code",
   "execution_count": 3,
   "id": "dfdc06f7-661e-4600-990f-641b1411067d",
   "metadata": {},
   "outputs": [],
   "source": [
    "asin = \"B0CLF3VPMV\""
   ]
  },
  {
   "cell_type": "code",
   "execution_count": 4,
   "id": "d48f7ef0-22ab-4b50-a21e-c7256536fd5a",
   "metadata": {
    "scrolled": true
   },
   "outputs": [],
   "source": [
    "scraper = helpers.Scraper(asin=\"B0CLF3VPMV\")\n"
   ]
  },
  {
   "cell_type": "code",
   "execution_count": 5,
   "id": "e87196cb-5a0f-4537-8548-0ac53a7d2d33",
   "metadata": {},
   "outputs": [
    {
     "name": "stdout",
     "output_type": "stream",
     "text": [
      "Price $159.99\n",
      "AmazonGlobal Shipping $11.74\n",
      "Estimated Import Charges $9.04\n",
      "Total $180.77\n",
      "Price $159.99\n",
      "AmazonGlobal Shipping $11.74\n",
      "Estimated Import Charges $9.04\n",
      "Total $180.77\n",
      "Brand SAMSUNG\n",
      "Model Name A9+\n",
      "Memory Storage Capacity 64 GB\n",
      "Screen Size 11 Inches\n",
      "Display Resolution Maximum 1920 X 1200 (WUXGA) Pixels\n",
      "Standing screen display size ‎11 Inches\n",
      "Screen Resolution ‎1920 x 1200\n",
      "Max Screen Resolution ‎1920 X 1200 (WUXGA) Pixels\n",
      "RAM ‎4 GB\n",
      "Hard Drive ‎64 GB\n",
      "Chipset Brand ‎Qualcomm\n",
      "Card Description ‎Integrated\n",
      "Wireless Type ‎802.11ac\n",
      "Brand ‎SAMSUNG\n",
      "Series ‎A9+\n",
      "Item model number ‎SM-X210NZAAXAR\n",
      "Operating System ‎Android\n",
      "Item Weight ‎1.32 pounds\n",
      "Product Dimensions ‎10.12 x 6.64 x 0.27 inches\n",
      "Item Dimensions  LxWxH ‎10.12 x 6.64 x 0.27 inches\n",
      "Color ‎Graphite\n",
      "Processor Brand ‎Qualcomm\n",
      "Computer Memory Type ‎Unknown\n",
      "Flash Memory Size ‎64 GB\n",
      "Batteries ‎1 Lithium Ion batteries required.\n",
      "ASIN B0CLF3VPMV\n",
      "Customer Reviews 4.5  4.5 out of 5 stars    \n",
      "    11,785 ratings   \n",
      "                    \n",
      "                    var dpAcrHasRegisteredArcLinkClickAction;\n",
      "                    P.when('A', 'ready').execute(function(A) {\n",
      "                        if (dpAcrHasRegisteredArcLinkClickAction !== true) {\n",
      "                            dpAcrHasRegisteredArcLinkClickAction = true;\n",
      "                            A.declarative(\n",
      "                                'acrLink-click-metrics', 'click',\n",
      "                                { \"allowLinkDefault\": true },\n",
      "                                function (event) {\n",
      "                                    if (window.ue) {\n",
      "                                        ue.count(\"acrLinkClickCount\", (ue.count(\"acrLinkClickCount\") || 0) + 1);\n",
      "                                    }\n",
      "                                }\n",
      "                            );\n",
      "                        }\n",
      "                    });\n",
      "                \n",
      "\n",
      "            P.when('A', 'cf').execute(function(A) {\n",
      "                A.declarative('acrStarsLink-click-metrics', 'click', { \"allowLinkDefault\" : true },  function(event){\n",
      "                    if(window.ue) {\n",
      "                        ue.count(\"acrStarsLinkWithPopoverClickCount\", (ue.count(\"acrStarsLinkWithPopoverClickCount\") || 0) + 1);\n",
      "                    }\n",
      "                });\n",
      "            });\n",
      "        \n",
      "\n",
      " 4.5 out of 5 stars\n",
      "Best Sellers Rank #127 in Electronics (See Top 100 in Electronics)  #7 in Computer Tablets\n",
      "Date First Available January 12, 2024\n"
     ]
    }
   ],
   "source": [
    "data = scraper.scrape()"
   ]
  },
  {
   "cell_type": "code",
   "execution_count": 6,
   "id": "8a8fd58b-87e3-43cd-be77-0e5bdf5db2d0",
   "metadata": {},
   "outputs": [
    {
     "data": {
      "text/plain": [
       "{'title': 'Samsung Galaxy Tab A9+ Tablet 11” 64GB Android Tablet, Big Screen, Quad Speakers, Upgraded Chipset, Multi Window Display, Slim, Light, Durable Design, US Version, 2024, Graphite',\n",
       " 'price': 159.99,\n",
       " 'total': 180.77,\n",
       " 'image_url': 'https://m.media-amazon.com/images/I/61d46oYQgdL._AC_SX466_.jpg',\n",
       " 'rating': '4.5 out of 5 stars',\n",
       " 'total_reviews': 11785,\n",
       " 'reviews': ['I had an older Galaxy Tab A (2019), but a friend broke it. Android tablet computers have really improved since I bought the old Samsung.\\nI have a Samsung laptop and smartphone; they connect seamlessly and transferring data and media is a breeze.\\nI knew the new tablet would be another Samsung.\\nWhat I was unprepared for was how much I LOVE this Galaxy Tab A9+ (2024 version). The A9+ was released in 2023 and 2024. The latter has an improved chipset (Snapdragon) and is updated to Android 14. Otherwise, they are identical.\\nThe A9+ has an 11\" screen and is lightweight and thin enough to put a cover on and carry in my handbag.\\nThe display is bright, smooth and videos look beautiful. I have already used it for virtual meetings. Games run perfectly (though I will say up front that I don\\'t run any graphics-intensive games).\\nThis tablet has checked all the boxes for my needs.\\nAnd get this: for the 64gb model, I paid just $159.00, brand new.\\nI cannot imagine how many bells and whistles are packed into tablets costing ten times more, especially when the A9 is everything I could ask for.\\nI will continue to attend virtual meetings, as well as journaling and some digital art.\\nI added an active stylus for the art; it\\'s a great combo!\\nSo far. I\\'ve encountered no negative attributes.\\nIf you want a great little tablet for general computing and don\\'t want to spend a fortune, don\\'t hesitate trying the Galaxy Tab A9+.\\nThis tablet would make a fantastic gift!',\n",
       "  \"This tablet is awesome!! Beautiful display, especially great for streaming movies and shows. It was super easy to set up. The charging didn't take more than 2 hours (using a 45W charging block that I ordered separately). Sound is plenty good, but is absolutely GREAT with the JBL earphones I ordered separately. And YES! This tablet has a JACK for my earphones to plug in! That was huge on my list, so I can watch shows during lunch at work. Battery lasts at least 8 hours, maybe more, if mostly streaming. Get this tablet!\",\n",
       "  'Writing this after few months of use - all well, working fine, original packaging etc',\n",
       "  'I ordered two Samsung galaxy kids edition, a yellow and a red. But I got two yellow colors delivered which was kinda disappointing as they belong to my two children.\\nApart from that, nice product',\n",
       "  '',\n",
       "  \"Great value. Performance is what I expected. A bit of a lag due to memory limitations but overall can't beat the value for the price\",\n",
       "  'Ele é ótimo pra coisas simples, ele n seria ideal pra encher de aplicativos, arquivos e coisas q possa pesar ele, ele é ideia pra caso vc não possa ter nada muito avançado, mas também precisa de algo bom, o modelo dele trava muito, de primeira após aberto já aprensetou travar mt, mas não me incomodou e não atrapalhou, ele é ótimo de verdade,eu estou feliz com ele pq vai suprir minhas necessidades que não são mts, ent ele vale mt a pena, chegou na data prescrita e chegou em perfeito estado, não tenho reclamações. Agradeço pela compra pq com certeza valeu muito a pena']}"
      ]
     },
     "execution_count": 6,
     "metadata": {},
     "output_type": "execute_result"
    }
   ],
   "source": [
    "data"
   ]
  },
  {
   "cell_type": "code",
   "execution_count": null,
   "id": "9ba272f9-0776-4c0a-a8fc-db731bcdf6ec",
   "metadata": {},
   "outputs": [],
   "source": []
  }
 ],
 "metadata": {
  "kernelspec": {
   "display_name": "Python 3 (ipykernel)",
   "language": "python",
   "name": "python3"
  },
  "language_info": {
   "codemirror_mode": {
    "name": "ipython",
    "version": 3
   },
   "file_extension": ".py",
   "mimetype": "text/x-python",
   "name": "python",
   "nbconvert_exporter": "python",
   "pygments_lexer": "ipython3",
   "version": "3.10.14"
  }
 },
 "nbformat": 4,
 "nbformat_minor": 5
}
